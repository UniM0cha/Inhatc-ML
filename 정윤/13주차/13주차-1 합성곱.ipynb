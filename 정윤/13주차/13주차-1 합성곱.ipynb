{
 "cells": [
  {
   "cell_type": "markdown",
   "metadata": {},
   "source": [
    "# 합성곱\n",
    "원래의 인공신경망은 픽셀 하나당 뉴런 하나 맡아서 가중치를 계산했는데  \n",
    "합성곱의 인공신경망은 픽셀 몇개를 싸잡아서(그룹화해서) 가중치를 계산한다.  \n",
    "\n",
    "합성곱에서는 뉴런이란 표현은 잘 안쓰고 몇개 그룹화 한 것을 커널=필터=가중치 라고 한다.  \n",
    "커널을 사용해서 나온 결과물을 특성맵 또는 feature map 이라고 한다.  \n",
    "특성맵의 마지막 차원은 항상 필터의 개수"
   ]
  },
  {
   "cell_type": "code",
   "execution_count": 2,
   "metadata": {},
   "outputs": [
    {
     "data": {
      "text/plain": [
       "<keras.layers.convolutional.conv2d.Conv2D at 0x1c4780a9970>"
      ]
     },
     "execution_count": 2,
     "metadata": {},
     "output_type": "execute_result"
    }
   ],
   "source": [
    "# 케라스의 합성곱 층\n",
    "from tensorflow import keras\n",
    "keras.layers.Conv2D(10, kernel_size=(3,3), activation='relu')\n",
    "# 10은 필터의 개수\n",
    "# 보통 커널 사이즈는 3,3 또는 5,5를 쓴다"
   ]
  },
  {
   "cell_type": "markdown",
   "metadata": {},
   "source": [
    "## 패딩\n",
    "주변에 픽셀을 덧붙혀서 필터가 슬라이싱하는 수를 많게 만들어준다."
   ]
  },
  {
   "cell_type": "code",
   "execution_count": null,
   "metadata": {},
   "outputs": [],
   "source": [
    "keras.layers.Conv2D(10, kernel_size=(3,3), activation='relu', padding='same')\n",
    "# padding='same' : 특성맵의 크기가 같아지도록 자동으로 패딩을 추가한다."
   ]
  },
  {
   "cell_type": "markdown",
   "metadata": {},
   "source": [
    "## 스트라이드\n",
    "한칸씩 이동하지 않고 두칸씩 이동할수도 있다.  \n",
    "이동하는 크기를 스트라이드라고 한다.  \n"
   ]
  },
  {
   "cell_type": "code",
   "execution_count": null,
   "metadata": {},
   "outputs": [],
   "source": [
    "keras.layers.Conv2D(10, kernel_size=(3,3), activation='relu', padding='same', strides=1)\n",
    "# 한칸씩 이동"
   ]
  },
  {
   "cell_type": "markdown",
   "metadata": {},
   "source": [
    "## 풀링\n",
    "합성곱 층은 동일한 크기의 특성맵을 만드는 same을 많이 사용한다고 했다...  \n",
    "특성맵이 나오는데, 거기에 그 특성맵 크기의 도장(풀링)을 하나 더 추가한다  \n",
    "그러면 특성맵은 1x1x* 크기로 나오게 될 것이다.\n",
    "\n",
    "보통 평균 풀링이나 최대 풀링을 사용한다.  \n",
    "가중치는 없고 걍 평균이나 최대값을 찾아내는 데에 사용하는 것  \n",
    "마지막 차원을 채널차원 이라고도 함\n",
    "\n",
    "풀링은 최대값이나, 평균값을 구해서 이미지의 사이즈를 줄이는 것이 목적이기때문에  \n",
    "겹치지 않고 이동한다."
   ]
  },
  {
   "cell_type": "code",
   "execution_count": null,
   "metadata": {},
   "outputs": [],
   "source": [
    "keras.layers.MaxPooling2D(2)\n",
    "# strides는 기본 2로 설정되기 때문에 안써도 됨\n",
    "# 패딩도 적용하지 않기 때문에 굳이 안써도 됨\n",
    "keras.layers.MaxPooling2D(2, strides=2, padding='valid')"
   ]
  }
 ],
 "metadata": {
  "interpreter": {
   "hash": "e340a0a01ab186b377b016c01aa7d5d1230eddf285ffed81230a024c78a4da64"
  },
  "kernelspec": {
   "display_name": "Python 3 (ipykernel)",
   "language": "python",
   "name": "python3"
  },
  "language_info": {
   "codemirror_mode": {
    "name": "ipython",
    "version": 3
   },
   "file_extension": ".py",
   "mimetype": "text/x-python",
   "name": "python",
   "nbconvert_exporter": "python",
   "pygments_lexer": "ipython3",
   "version": "3.8.13"
  },
  "orig_nbformat": 4
 },
 "nbformat": 4,
 "nbformat_minor": 2
}
