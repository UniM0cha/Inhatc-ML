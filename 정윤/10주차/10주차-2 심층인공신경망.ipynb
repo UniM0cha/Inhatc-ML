{
 "cells": [
  {
   "cell_type": "code",
   "execution_count": 30,
   "metadata": {},
   "outputs": [
    {
     "data": {
      "text/plain": [
       "[PhysicalDevice(name='/physical_device:CPU:0', device_type='CPU')]"
      ]
     },
     "execution_count": 30,
     "metadata": {},
     "output_type": "execute_result"
    }
   ],
   "source": [
    "# GPU 지원하는지 확인\n",
    "import tensorflow as tf\n",
    "tf.config.list_physical_devices()"
   ]
  },
  {
   "cell_type": "markdown",
   "metadata": {},
   "source": [
    "# 심층 신경망"
   ]
  },
  {
   "cell_type": "code",
   "execution_count": 31,
   "metadata": {},
   "outputs": [],
   "source": [
    "# 입력층, 은닉층, 출력층 세가지가 있지만 입력층은 생각하지 않는다\n",
    "# 은닉층의 개수는 딱히 정해진 것은 없다\n",
    "# 출력층 10개의 확률을 계산해야하기 때문에 10개보다는 많아야 할 것\n",
    "# 활성화 함수를 거쳐서 비선형 함수로 데이터를 변형해서 단순히 선형식이 합쳐지지 않도록 해야한다.\n",
    "# 활성화함수... 다시 찾아봐야겠습니다.\n",
    "\n",
    "from tensorflow import keras\n",
    "\n",
    "# 데이터 삽입\n",
    "(train_input, train_target), (test_input, test_target) = keras.datasets.fashion_mnist.load_data()\n",
    "\n",
    "train_scaled = train_input / 255.0\n",
    "train_scaled = train_scaled.reshape(-1, 28*28)\n",
    "\n",
    "from sklearn.model_selection import train_test_split\n",
    "train_scaled, val_scaled, train_target, val_target = train_test_split(train_scaled, train_target, test_size=0.2, random_state=42)"
   ]
  },
  {
   "cell_type": "code",
   "execution_count": 32,
   "metadata": {},
   "outputs": [],
   "source": [
    "dense1 = keras.layers.Dense(100, activation='sigmoid', input_shape=(784,))\n",
    "dense2 = keras.layers.Dense(10, activation='softmax')\n",
    "model = keras.Sequential([dense1, dense2])"
   ]
  },
  {
   "cell_type": "code",
   "execution_count": 33,
   "metadata": {},
   "outputs": [
    {
     "name": "stdout",
     "output_type": "stream",
     "text": [
      "Model: \"sequential_14\"\n",
      "_________________________________________________________________\n",
      " Layer (type)                Output Shape              Param #   \n",
      "=================================================================\n",
      " dense_38 (Dense)            (None, 100)               78500     \n",
      "                                                                 \n",
      " dense_39 (Dense)            (None, 10)                1010      \n",
      "                                                                 \n",
      "=================================================================\n",
      "Total params: 79,510\n",
      "Trainable params: 79,510\n",
      "Non-trainable params: 0\n",
      "_________________________________________________________________\n"
     ]
    }
   ],
   "source": [
    "model.summary()\n",
    "# 케라스 fit 에서 batch size를 정할 수 있는데, 기본값 32\n",
    "# 배치... 어쩌구 하는거랑 활성화함수.. 다시 봐야겠다."
   ]
  },
  {
   "cell_type": "code",
   "execution_count": 34,
   "metadata": {},
   "outputs": [
    {
     "name": "stdout",
     "output_type": "stream",
     "text": [
      "Model: \"sequential_15\"\n",
      "_________________________________________________________________\n",
      " Layer (type)                Output Shape              Param #   \n",
      "=================================================================\n",
      " dense_42 (Dense)            (None, 100)               78500     \n",
      "                                                                 \n",
      " dense_43 (Dense)            (None, 10)                1010      \n",
      "                                                                 \n",
      "=================================================================\n",
      "Total params: 79,510\n",
      "Trainable params: 79,510\n",
      "Non-trainable params: 0\n",
      "_________________________________________________________________\n"
     ]
    }
   ],
   "source": [
    "# 층을 추가하는 다른 방법\n",
    "model = keras.Sequential([\n",
    "    keras.layers.Dense(100, activation='sigmoid', input_shape=(784,)),\n",
    "    keras.layers.Dense(10, activation='softmax')\n",
    "], name='패션 MNIST 모델')\n",
    "\n",
    "# 세번째 방법\n",
    "model = keras.Sequential()\n",
    "model.add(keras.layers.Dense(100, activation='sigmoid', input_shape=(784,)))\n",
    "model.add(keras.layers.Dense(10, activation='softmax'))\n",
    "model.summary()"
   ]
  },
  {
   "cell_type": "code",
   "execution_count": 35,
   "metadata": {},
   "outputs": [
    {
     "name": "stdout",
     "output_type": "stream",
     "text": [
      "Epoch 1/5\n",
      "1500/1500 [==============================] - 1s 705us/step - loss: 0.5662 - accuracy: 0.8060\n",
      "Epoch 2/5\n",
      "1500/1500 [==============================] - 1s 639us/step - loss: 0.4099 - accuracy: 0.8534\n",
      "Epoch 3/5\n",
      "1500/1500 [==============================] - 1s 650us/step - loss: 0.3752 - accuracy: 0.8663\n",
      "Epoch 4/5\n",
      "1500/1500 [==============================] - 1s 758us/step - loss: 0.3530 - accuracy: 0.8722\n",
      "Epoch 5/5\n",
      "1500/1500 [==============================] - 1s 713us/step - loss: 0.3358 - accuracy: 0.8781\n"
     ]
    },
    {
     "data": {
      "text/plain": [
       "<keras.callbacks.History at 0x28055b190>"
      ]
     },
     "execution_count": 35,
     "metadata": {},
     "output_type": "execute_result"
    }
   ],
   "source": [
    "model.compile(loss='sparse_categorical_crossentropy', metrics='accuracy')\n",
    "model.fit(train_scaled, train_target, epochs=5)"
   ]
  },
  {
   "cell_type": "markdown",
   "metadata": {},
   "source": [
    "## 몇개 더 해볼까?"
   ]
  },
  {
   "cell_type": "code",
   "execution_count": 36,
   "metadata": {},
   "outputs": [
    {
     "name": "stdout",
     "output_type": "stream",
     "text": [
      "Epoch 1/5\n",
      "1500/1500 [==============================] - 4s 3ms/step - loss: 0.6036 - accuracy: 0.7818\n",
      "Epoch 2/5\n",
      "1500/1500 [==============================] - 4s 3ms/step - loss: 0.4115 - accuracy: 0.8509\n",
      "Epoch 3/5\n",
      "1500/1500 [==============================] - 5s 3ms/step - loss: 0.3699 - accuracy: 0.8658\n",
      "Epoch 4/5\n",
      "1500/1500 [==============================] - 4s 3ms/step - loss: 0.3426 - accuracy: 0.8766\n",
      "Epoch 5/5\n",
      "1500/1500 [==============================] - 4s 3ms/step - loss: 0.3231 - accuracy: 0.8826\n"
     ]
    },
    {
     "data": {
      "text/plain": [
       "<keras.callbacks.History at 0x2874fbac0>"
      ]
     },
     "execution_count": 36,
     "metadata": {},
     "output_type": "execute_result"
    }
   ],
   "source": [
    "model = keras.Sequential()\n",
    "model.add(keras.layers.Dense(500, activation='sigmoid', input_shape=(784,)))\n",
    "model.add(keras.layers.Dense(200, activation='sigmoid'))\n",
    "model.add(keras.layers.Dense(100, activation='sigmoid'))\n",
    "model.add(keras.layers.Dense(10, activation='softmax'))\n",
    "model.compile(loss='sparse_categorical_crossentropy', metrics='accuracy')\n",
    "model.fit(train_scaled, train_target, epochs=5)"
   ]
  },
  {
   "cell_type": "markdown",
   "metadata": {},
   "source": [
    "## 렐루 함수와 Flatten 층"
   ]
  },
  {
   "cell_type": "code",
   "execution_count": 37,
   "metadata": {},
   "outputs": [
    {
     "name": "stdout",
     "output_type": "stream",
     "text": [
      "Model: \"sequential_17\"\n",
      "_________________________________________________________________\n",
      " Layer (type)                Output Shape              Param #   \n",
      "=================================================================\n",
      " flatten_6 (Flatten)         (None, 784)               0         \n",
      "                                                                 \n",
      " dense_48 (Dense)            (None, 100)               78500     \n",
      "                                                                 \n",
      " dense_49 (Dense)            (None, 10)                1010      \n",
      "                                                                 \n",
      "=================================================================\n",
      "Total params: 79,510\n",
      "Trainable params: 79,510\n",
      "Non-trainable params: 0\n",
      "_________________________________________________________________\n"
     ]
    }
   ],
   "source": [
    "model = keras.Sequential()\n",
    "# 28x28을 1차원으로 풀어서 제공해줬었는데, 그것을 Flatten 클래스가 해준다.\n",
    "model.add(keras.layers.Flatten(input_shape=(28,28)))\n",
    "model.add(keras.layers.Dense(100, activation='relu'))\n",
    "model.add(keras.layers.Dense(10, activation='softmax'))\n",
    "\n",
    "model.summary()"
   ]
  },
  {
   "cell_type": "markdown",
   "metadata": {},
   "source": [
    "## 옵티마이저\n",
    "compile() 메서드의 기본 경사 하강법 알고리즘은 RMSprop  \n",
    "다른 경사 하강법 알고리즘을 적용해보자."
   ]
  },
  {
   "cell_type": "code",
   "execution_count": 38,
   "metadata": {},
   "outputs": [],
   "source": [
    "# 데이터 삽입\n",
    "(train_input, train_target), (test_input, test_target) = keras.datasets.fashion_mnist.load_data()\n",
    "\n",
    "train_scaled = train_input / 255.0\n",
    "# flatten 층 덕분에 reshape를 하지 않아도 된다.\n",
    "# train_scaled = train_scaled.reshape(-1, 28*28)\n",
    "\n",
    "from sklearn.model_selection import train_test_split\n",
    "train_scaled, val_scaled, train_target, val_target = train_test_split(train_scaled, train_target, test_size=0.2, random_state=42)"
   ]
  },
  {
   "cell_type": "code",
   "execution_count": 39,
   "metadata": {},
   "outputs": [],
   "source": [
    "# sgd 알고리즘을 적용하는 방법\n",
    "model.compile(optimizer='sgd', loss='sparse_categorical_crossentropy', metrics='accuracy')\n",
    "\n",
    "# 객체를 만드는 다른 방법\n",
    "sgd = keras.optimizers.SGD()\n",
    "model.compile(optimizer=sgd, loss='sparse_categorical_crossentropy', metrics='accuracy')\n",
    "\n",
    "# 위의 방법대로 하면 옵션을 넣어줄 수 있다.\n",
    "sgd = keras.optimizers.SGD(learning_rate=0.1)\n",
    "sgd = keras.optimizers.SGD(momentum=0.9, nesterov=True)"
   ]
  },
  {
   "cell_type": "code",
   "execution_count": 40,
   "metadata": {},
   "outputs": [
    {
     "name": "stdout",
     "output_type": "stream",
     "text": [
      "Model: \"sequential_18\"\n",
      "_________________________________________________________________\n",
      " Layer (type)                Output Shape              Param #   \n",
      "=================================================================\n",
      " flatten_7 (Flatten)         (None, 784)               0         \n",
      "                                                                 \n",
      " dense_50 (Dense)            (None, 100)               78500     \n",
      "                                                                 \n",
      " dense_51 (Dense)            (None, 10)                1010      \n",
      "                                                                 \n",
      "=================================================================\n",
      "Total params: 79,510\n",
      "Trainable params: 79,510\n",
      "Non-trainable params: 0\n",
      "_________________________________________________________________\n",
      "Epoch 1/5\n",
      "1500/1500 [==============================] - 1s 698us/step - loss: 0.5253 - accuracy: 0.8187\n",
      "Epoch 2/5\n",
      "1500/1500 [==============================] - 1s 573us/step - loss: 0.3970 - accuracy: 0.8601\n",
      "Epoch 3/5\n",
      "1500/1500 [==============================] - 1s 541us/step - loss: 0.3570 - accuracy: 0.8705\n",
      "Epoch 4/5\n",
      "1500/1500 [==============================] - 1s 552us/step - loss: 0.3256 - accuracy: 0.8817\n",
      "Epoch 5/5\n",
      "1500/1500 [==============================] - 1s 547us/step - loss: 0.3097 - accuracy: 0.8851\n"
     ]
    },
    {
     "data": {
      "text/plain": [
       "<keras.callbacks.History at 0x287572070>"
      ]
     },
     "execution_count": 40,
     "metadata": {},
     "output_type": "execute_result"
    }
   ],
   "source": [
    "# Adam 옵티마이저를 사용해보자\n",
    "model = keras.Sequential()\n",
    "# 28x28을 1차원으로 풀어서 제공해줬었는데, 그것을 Flatten 클래스가 해준다.\n",
    "model.add(keras.layers.Flatten(input_shape=(28,28)))\n",
    "model.add(keras.layers.Dense(100, activation='relu'))\n",
    "model.add(keras.layers.Dense(10, activation='softmax'))\n",
    "\n",
    "model.summary()\n",
    "\n",
    "model.compile(optimizer='adam', loss='sparse_categorical_crossentropy', metrics='accuracy')\n",
    "model.fit(train_scaled, train_target, epochs=5)"
   ]
  },
  {
   "cell_type": "code",
   "execution_count": 42,
   "metadata": {},
   "outputs": [
    {
     "name": "stdout",
     "output_type": "stream",
     "text": [
      "375/375 [==============================] - 0s 385us/step - loss: 0.3527 - accuracy: 0.8719\n"
     ]
    },
    {
     "data": {
      "text/plain": [
       "[0.35271358489990234, 0.871916651725769]"
      ]
     },
     "execution_count": 42,
     "metadata": {},
     "output_type": "execute_result"
    }
   ],
   "source": [
    "# 검증\n",
    "model.evaluate(val_scaled, val_target)"
   ]
  }
 ],
 "metadata": {
  "interpreter": {
   "hash": "e340a0a01ab186b377b016c01aa7d5d1230eddf285ffed81230a024c78a4da64"
  },
  "kernelspec": {
   "display_name": "Python 3.8.13 ('py38')",
   "language": "python",
   "name": "python3"
  },
  "language_info": {
   "codemirror_mode": {
    "name": "ipython",
    "version": 3
   },
   "file_extension": ".py",
   "mimetype": "text/x-python",
   "name": "python",
   "nbconvert_exporter": "python",
   "pygments_lexer": "ipython3",
   "version": "3.8.13"
  },
  "orig_nbformat": 4
 },
 "nbformat": 4,
 "nbformat_minor": 2
}
