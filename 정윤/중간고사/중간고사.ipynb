{
 "cells": [
  {
   "cell_type": "code",
   "execution_count": null,
   "metadata": {},
   "outputs": [],
   "source": []
  },
  {
   "cell_type": "markdown",
   "metadata": {},
   "source": [
    "선형회귀에서 경사하강법을 적용한다는 것은 데이터와 현재 선형보델의 오차를 구하여 오차의 합계가 작은 쪽으로 이동하도록 지속적으로 파라미터를 수정하면서 오차의 합계가 최소값이 되는 파라미터를 구하는 것을 뜻합니다."
   ]
  },
  {
   "cell_type": "code",
   "execution_count": 10,
   "metadata": {},
   "outputs": [
    {
     "name": "stdout",
     "output_type": "stream",
     "text": [
      "0.6\n",
      "[3]\n"
     ]
    }
   ],
   "source": [
    "from sklearn.neighbors import KNeighborsClassifier\n",
    "data = [[1,2],[3,4],[2,2],[4,4],[4,5],[0,1],[1,1],[5,6],[6,4],[5,5]]\n",
    "target = [1,3,1,3,3,1,1,3,3,3]\n",
    "kn = KNeighborsClassifier(n_neighbors=10)\n",
    "kn.fit(data,target)\n",
    "print(kn.score(data,target))\n",
    "print(kn.predict([[1,1]]))"
   ]
  },
  {
   "cell_type": "markdown",
   "metadata": {},
   "source": [
    "결과 : kn.predict에서 오류가 발생합니다.\n",
    "predict를 할 때 학습에 사용한 데이터의 형식과 맞춰주어야 합니다.\n",
    "따라서 kn.predict([[1,1]])로 수정해주어야 합니다."
   ]
  },
  {
   "cell_type": "markdown",
   "metadata": {},
   "source": [
    "거리기반 분류 알고리즘은 샘플간의 거리에 영향을 많이 받으므로 데이터를 표현하는 기준이 다르면 올바르게 예측할 수 없습니다.\n",
    "따라서 제대로 사용하려면 특성값을 일정한 기준으로 맞춰주어야 합니다.\n",
    "현재 상황에서는 표준점수로 변환하여 일정한 기준으로 맞춰줌으로써 실제 특성값의 크기와 상관 없이 동일한 조건으로 비교할 수 있습니다."
   ]
  },
  {
   "cell_type": "code",
   "execution_count": 15,
   "metadata": {},
   "outputs": [
    {
     "name": "stdout",
     "output_type": "stream",
     "text": [
      "0.0\n",
      "[5.5]\n",
      "[5.5]\n",
      "[5.5]\n"
     ]
    }
   ],
   "source": [
    "from sklearn.neighbors import KNeighborsRegressor\n",
    "import numpy as np\n",
    "data = np.array([1, 2, 3, 4, 5, 6, 7, 8, 9, 10])\n",
    "target = np.array([1, 2, 3, 4, 5, 6, 7, 8, 9, 10])\n",
    "data = data.reshape(-1, 1)\n",
    "kn = KNeighborsRegressor(n_neighbors=10)\n",
    "kn.fit(data, target)\n",
    "print(kn.score(data, target))\n",
    "print(kn.predict([[10]]))\n",
    "print(kn.predict([[12]]))\n",
    "print(kn.predict([[20]]))\n"
   ]
  },
  {
   "cell_type": "markdown",
   "metadata": {},
   "source": [
    "이는 KNN의 한계로써 거리 기반으로 예측을 하기 때문에 훈련 데이터 이상의 데이터를 예측하라고 하면 제대로 예측하지 못합니다.\n",
    "따라서 이런 경우에는 선형회귀를 사용하는 등의 다른 알고리즘을 사용하여 훈련 데이터 범위 이상의 데이터를 예측할 수 있도록 해야 합니다."
   ]
  },
  {
   "cell_type": "markdown",
   "metadata": {},
   "source": [
    "KNN의 하이퍼파라메타는 최근접 이웃의 수인 k값 입니다.\n",
    "반복문을 사용하여 K값을 하나씩 올려가면서 score를 내면서 가장 높은 값을 반환하는 K값을 찾아내거나,\n",
    "그리드 서치 혹은 랜덤서치를 사용하여 찾아낼 수도 있습니다."
   ]
  },
  {
   "cell_type": "markdown",
   "metadata": {},
   "source": [
    "선형회귀에서 과적합을 판단하는 방법은 훈련에 사용한 데이터로 score를 내보고, 테스트에 사용한 데이터로 score를 내봄으로써, 테스트로 낸 score와 비교하여 훈련으로 낸 score가 과하게 크다면, 과적합 되었다는 것을 확인할 수 있습니다.\n",
    "이를 줄이기 위하여 선형회귀에서는 규제를 적용하게 되는데, 대표적으로 릿지 회귀와 라쏘회귀를 사용하여 선형 모델을 조금 펴줌으로써 과적합을 방지합니다"
   ]
  },
  {
   "cell_type": "markdown",
   "metadata": {},
   "source": []
  },
  {
   "cell_type": "code",
   "execution_count": null,
   "metadata": {},
   "outputs": [],
   "source": [
    "bream_smelt_index = ()\n",
    "data = data"
   ]
  },
  {
   "cell_type": "markdown",
   "metadata": {},
   "source": [
    "19. max_depth 하이퍼파라메타를 조절하여 자라날 수 있는 트리의 최대 깊이를 조절하거나 min_impurity_decrease 하이퍼파라메타를 조절하여 트리의 분할하는 기준을 줄일 수 있습니다."
   ]
  },
  {
   "cell_type": "markdown",
   "metadata": {},
   "source": [
    "13. 로지스틱회귀는 기본적으로 이진분류만 수행할 수 있습니다. 하지만 로지스틱회귀로 다중분류를 수행할 수 있는 이유는 클래스마다 이진분류 모델을 만들어서 하나의 클래스는 양성클래스, 나머지 모두는 음성클래스로 두는 방식으로 모델을 만듭니다. 이러한 방식을 OvR(One versus Rest)라고 부릅니다."
   ]
  },
  {
   "cell_type": "markdown",
   "metadata": {},
   "source": [
    "18. 지니 불순도 = 1 - (음성클래스 비율^2 + 양성 클래스 비율 ^2)"
   ]
  },
  {
   "cell_type": "markdown",
   "metadata": {},
   "source": [
    "21. 결정트리의 경우 feature_importances_ 속성으로 features의 중요도를 알 수 있습니다."
   ]
  }
 ],
 "metadata": {
  "interpreter": {
   "hash": "aa3dd84ef0f650d9d8b867844db5a915f08cb58b5d6dab20fc53865ee0283ae4"
  },
  "kernelspec": {
   "display_name": "Python 3.9.12 ('py39')",
   "language": "python",
   "name": "python3"
  },
  "language_info": {
   "codemirror_mode": {
    "name": "ipython",
    "version": 3
   },
   "file_extension": ".py",
   "mimetype": "text/x-python",
   "name": "python",
   "nbconvert_exporter": "python",
   "pygments_lexer": "ipython3",
   "version": "3.9.12"
  },
  "orig_nbformat": 4
 },
 "nbformat": 4,
 "nbformat_minor": 2
}
