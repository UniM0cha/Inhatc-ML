{
 "cells": [
  {
   "cell_type": "markdown",
   "metadata": {},
   "source": [
    "# Rep 5. KNN분류 및 로지스틱회귀\n",
    "- Kaggle에서 분류 관련 데이터셋을 구해서, 2진분류와 다중분류를, 교재에 흐름대로 실습한 결과물\n",
    "\n",
    "#### 201845092 이정윤"
   ]
  },
  {
   "cell_type": "markdown",
   "metadata": {},
   "source": [
    "##### dataset : KRmatch.csv\n",
    "출처 : https://www.kaggle.com/datasets/andrewasuter/lol-challenger-soloq-data-jan-krnaeuw?select=KRmatch.csv\n",
    "- d_spell : D키 스킬 발동 횟수\n",
    "- f_spell : F키 스킬 발동 횟수\n",
    "- role : 포지션\n",
    "- assists : 어시스트 횟수\n",
    "- deaths : 데스 횟수\n",
    "- kills : 킬 횟수\n",
    "- gold_earned : 총 얻은 골드\n",
    "- level : 게임 종료 시 레벨\n",
    "- damage_total : 총 받은 데미지\n",
    "- total_minions_killed : 총 죽인 미니언 수\n",
    "- result : 게임 결과\n",
    "  \n",
    "#### (1) KNN 다중 분류\n",
    "    리그오브레전드의 여러가지 게임 내 수치로 플레이어의 포지션 예측"
   ]
  },
  {
   "cell_type": "code",
   "execution_count": 209,
   "metadata": {},
   "outputs": [
    {
     "data": {
      "text/html": [
       "<div>\n",
       "<style scoped>\n",
       "    .dataframe tbody tr th:only-of-type {\n",
       "        vertical-align: middle;\n",
       "    }\n",
       "\n",
       "    .dataframe tbody tr th {\n",
       "        vertical-align: top;\n",
       "    }\n",
       "\n",
       "    .dataframe thead th {\n",
       "        text-align: right;\n",
       "    }\n",
       "</style>\n",
       "<table border=\"1\" class=\"dataframe\">\n",
       "  <thead>\n",
       "    <tr style=\"text-align: right;\">\n",
       "      <th></th>\n",
       "      <th>d_spell</th>\n",
       "      <th>f_spell</th>\n",
       "      <th>result</th>\n",
       "      <th>assists</th>\n",
       "      <th>deaths</th>\n",
       "      <th>kills</th>\n",
       "      <th>gold_earned</th>\n",
       "      <th>level</th>\n",
       "      <th>damage_total</th>\n",
       "      <th>total_minions_killed</th>\n",
       "      <th>role</th>\n",
       "    </tr>\n",
       "  </thead>\n",
       "  <tbody>\n",
       "    <tr>\n",
       "      <th>0</th>\n",
       "      <td>14</td>\n",
       "      <td>4</td>\n",
       "      <td>False</td>\n",
       "      <td>6</td>\n",
       "      <td>6</td>\n",
       "      <td>2</td>\n",
       "      <td>6043</td>\n",
       "      <td>9</td>\n",
       "      <td>15214</td>\n",
       "      <td>36</td>\n",
       "      <td>Lane.utility</td>\n",
       "    </tr>\n",
       "    <tr>\n",
       "      <th>1</th>\n",
       "      <td>11</td>\n",
       "      <td>4</td>\n",
       "      <td>True</td>\n",
       "      <td>8</td>\n",
       "      <td>3</td>\n",
       "      <td>12</td>\n",
       "      <td>12919</td>\n",
       "      <td>16</td>\n",
       "      <td>194463</td>\n",
       "      <td>23</td>\n",
       "      <td>Lane.jungle</td>\n",
       "    </tr>\n",
       "    <tr>\n",
       "      <th>2</th>\n",
       "      <td>14</td>\n",
       "      <td>4</td>\n",
       "      <td>False</td>\n",
       "      <td>2</td>\n",
       "      <td>7</td>\n",
       "      <td>0</td>\n",
       "      <td>5641</td>\n",
       "      <td>10</td>\n",
       "      <td>34038</td>\n",
       "      <td>26</td>\n",
       "      <td>Lane.utility</td>\n",
       "    </tr>\n",
       "    <tr>\n",
       "      <th>3</th>\n",
       "      <td>14</td>\n",
       "      <td>4</td>\n",
       "      <td>True</td>\n",
       "      <td>8</td>\n",
       "      <td>3</td>\n",
       "      <td>7</td>\n",
       "      <td>10688</td>\n",
       "      <td>14</td>\n",
       "      <td>94369</td>\n",
       "      <td>133</td>\n",
       "      <td>Lane.mid_lane</td>\n",
       "    </tr>\n",
       "    <tr>\n",
       "      <th>4</th>\n",
       "      <td>4</td>\n",
       "      <td>12</td>\n",
       "      <td>True</td>\n",
       "      <td>8</td>\n",
       "      <td>5</td>\n",
       "      <td>13</td>\n",
       "      <td>12368</td>\n",
       "      <td>15</td>\n",
       "      <td>110580</td>\n",
       "      <td>141</td>\n",
       "      <td>Lane.top_lane</td>\n",
       "    </tr>\n",
       "    <tr>\n",
       "      <th>...</th>\n",
       "      <td>...</td>\n",
       "      <td>...</td>\n",
       "      <td>...</td>\n",
       "      <td>...</td>\n",
       "      <td>...</td>\n",
       "      <td>...</td>\n",
       "      <td>...</td>\n",
       "      <td>...</td>\n",
       "      <td>...</td>\n",
       "      <td>...</td>\n",
       "      <td>...</td>\n",
       "    </tr>\n",
       "    <tr>\n",
       "      <th>5692</th>\n",
       "      <td>12</td>\n",
       "      <td>4</td>\n",
       "      <td>False</td>\n",
       "      <td>18</td>\n",
       "      <td>6</td>\n",
       "      <td>7</td>\n",
       "      <td>12178</td>\n",
       "      <td>16</td>\n",
       "      <td>140108</td>\n",
       "      <td>174</td>\n",
       "      <td>Lane.mid_lane</td>\n",
       "    </tr>\n",
       "    <tr>\n",
       "      <th>5693</th>\n",
       "      <td>4</td>\n",
       "      <td>7</td>\n",
       "      <td>False</td>\n",
       "      <td>10</td>\n",
       "      <td>14</td>\n",
       "      <td>8</td>\n",
       "      <td>18347</td>\n",
       "      <td>18</td>\n",
       "      <td>275357</td>\n",
       "      <td>253</td>\n",
       "      <td>Lane.bot_lane</td>\n",
       "    </tr>\n",
       "    <tr>\n",
       "      <th>5694</th>\n",
       "      <td>12</td>\n",
       "      <td>4</td>\n",
       "      <td>True</td>\n",
       "      <td>3</td>\n",
       "      <td>4</td>\n",
       "      <td>3</td>\n",
       "      <td>9262</td>\n",
       "      <td>13</td>\n",
       "      <td>99117</td>\n",
       "      <td>169</td>\n",
       "      <td>Lane.top_lane</td>\n",
       "    </tr>\n",
       "    <tr>\n",
       "      <th>5695</th>\n",
       "      <td>4</td>\n",
       "      <td>11</td>\n",
       "      <td>True</td>\n",
       "      <td>6</td>\n",
       "      <td>2</td>\n",
       "      <td>9</td>\n",
       "      <td>8863</td>\n",
       "      <td>11</td>\n",
       "      <td>100611</td>\n",
       "      <td>22</td>\n",
       "      <td>Lane.jungle</td>\n",
       "    </tr>\n",
       "    <tr>\n",
       "      <th>5696</th>\n",
       "      <td>11</td>\n",
       "      <td>4</td>\n",
       "      <td>True</td>\n",
       "      <td>18</td>\n",
       "      <td>9</td>\n",
       "      <td>8</td>\n",
       "      <td>14204</td>\n",
       "      <td>17</td>\n",
       "      <td>191075</td>\n",
       "      <td>60</td>\n",
       "      <td>Lane.jungle</td>\n",
       "    </tr>\n",
       "  </tbody>\n",
       "</table>\n",
       "<p>5697 rows × 11 columns</p>\n",
       "</div>"
      ],
      "text/plain": [
       "      d_spell  f_spell  result  assists  deaths  kills  gold_earned  level  \\\n",
       "0          14        4   False        6       6      2         6043      9   \n",
       "1          11        4    True        8       3     12        12919     16   \n",
       "2          14        4   False        2       7      0         5641     10   \n",
       "3          14        4    True        8       3      7        10688     14   \n",
       "4           4       12    True        8       5     13        12368     15   \n",
       "...       ...      ...     ...      ...     ...    ...          ...    ...   \n",
       "5692       12        4   False       18       6      7        12178     16   \n",
       "5693        4        7   False       10      14      8        18347     18   \n",
       "5694       12        4    True        3       4      3         9262     13   \n",
       "5695        4       11    True        6       2      9         8863     11   \n",
       "5696       11        4    True       18       9      8        14204     17   \n",
       "\n",
       "      damage_total  total_minions_killed           role  \n",
       "0            15214                    36   Lane.utility  \n",
       "1           194463                    23    Lane.jungle  \n",
       "2            34038                    26   Lane.utility  \n",
       "3            94369                   133  Lane.mid_lane  \n",
       "4           110580                   141  Lane.top_lane  \n",
       "...            ...                   ...            ...  \n",
       "5692        140108                   174  Lane.mid_lane  \n",
       "5693        275357                   253  Lane.bot_lane  \n",
       "5694         99117                   169  Lane.top_lane  \n",
       "5695        100611                    22    Lane.jungle  \n",
       "5696        191075                    60    Lane.jungle  \n",
       "\n",
       "[5697 rows x 11 columns]"
      ]
     },
     "execution_count": 209,
     "metadata": {},
     "output_type": "execute_result"
    }
   ],
   "source": [
    "import pandas as pd\n",
    "lol = pd.read_csv(\"data/KRmatch.csv\")\n",
    "lol[['d_spell', 'f_spell', 'result', 'assists', 'deaths', 'kills',\n",
    "     'gold_earned', 'level', 'damage_total', 'total_minions_killed', 'role']]\n"
   ]
  },
  {
   "cell_type": "markdown",
   "metadata": {},
   "source": [
    "Train, Test 분리  \n",
    "라벨인코더로 role 인코딩  \n",
    "StandardScaler로 스케일링"
   ]
  },
  {
   "cell_type": "code",
   "execution_count": 210,
   "metadata": {},
   "outputs": [],
   "source": [
    "from sklearn.preprocessing import StandardScaler\n",
    "from sklearn.model_selection import train_test_split\n",
    "# from sklearn.preprocessing import LabelEncoder\n",
    "\n",
    "# encoder = LabelEncoder()\n",
    "# lol['role'] = encoder.fit_transform(lol['role'])\n",
    "\n",
    "lol_input = lol[['d_spell', 'f_spell', 'result', 'assists', 'deaths', 'kills',\n",
    "                 'gold_earned', 'level', 'damage_total', 'total_minions_killed']].to_numpy()\n",
    "lol_target = lol['role'].to_numpy()\n",
    "\n",
    "\n",
    "train_input, test_input, train_target, test_target = train_test_split(\n",
    "    lol_input, lol_target, random_state=42)\n",
    "\n",
    "ss = StandardScaler()\n",
    "ss.fit(train_input)\n",
    "train_scaled = ss.transform(train_input)\n",
    "test_scaled = ss.transform(test_input)\n"
   ]
  },
  {
   "cell_type": "code",
   "execution_count": 211,
   "metadata": {},
   "outputs": [
    {
     "name": "stdout",
     "output_type": "stream",
     "text": [
      "0.8953651685393258\n",
      "0.8084210526315789\n"
     ]
    }
   ],
   "source": [
    "from sklearn.neighbors import KNeighborsClassifier\n",
    "kn = KNeighborsClassifier(n_neighbors=3)\n",
    "kn.fit(train_scaled, train_target)\n",
    "print(kn.score(train_scaled, train_target))\n",
    "print(kn.score(test_scaled, test_target))\n"
   ]
  },
  {
   "cell_type": "code",
   "execution_count": 212,
   "metadata": {},
   "outputs": [
    {
     "name": "stdout",
     "output_type": "stream",
     "text": [
      "['Lane.bot_lane' 'Lane.jungle' 'Lane.mid_lane' 'Lane.top_lane'\n",
      " 'Lane.utility']\n",
      "[[0.     0.     0.     0.     1.    ]\n",
      " [0.3333 0.     0.     0.6667 0.    ]\n",
      " [0.     0.     0.3333 0.6667 0.    ]\n",
      " [0.     0.     0.     1.     0.    ]\n",
      " [0.     0.     0.     0.     1.    ]]\n"
     ]
    }
   ],
   "source": [
    "import numpy as np\n",
    "print(kn.classes_)\n",
    "proba = kn.predict_proba(test_scaled[:5])\n",
    "print(np.round(proba, decimals=4))"
   ]
  },
  {
   "cell_type": "markdown",
   "metadata": {},
   "source": [
    "### (2) 로지스틱 회귀 2진 분류"
   ]
  },
  {
   "cell_type": "markdown",
   "metadata": {},
   "source": [
    "불리언 인덱싱으로 탑 라인과 미드 라인 분류"
   ]
  },
  {
   "cell_type": "code",
   "execution_count": 213,
   "metadata": {},
   "outputs": [],
   "source": [
    "top_mid_indexes = (train_target == 'Lane.top_lane') | (\n",
    "    train_target == 'Lane.mid_lane')\n",
    "train_top_mid = train_scaled[top_mid_indexes]\n",
    "target_top_mid = train_target[top_mid_indexes]\n"
   ]
  },
  {
   "cell_type": "markdown",
   "metadata": {},
   "source": [
    "로지스틱 회귀 사용"
   ]
  },
  {
   "cell_type": "code",
   "execution_count": 214,
   "metadata": {},
   "outputs": [
    {
     "name": "stdout",
     "output_type": "stream",
     "text": [
      "예측한 포지션: ['Lane.mid_lane' 'Lane.top_lane' 'Lane.mid_lane' 'Lane.mid_lane'\n",
      " 'Lane.top_lane']\n",
      "클래스: ['Lane.mid_lane' 'Lane.top_lane']\n",
      "확률: [[0.68868396 0.31131604]\n",
      " [0.3294298  0.6705702 ]\n",
      " [0.56523694 0.43476306]\n",
      " [0.70832692 0.29167308]\n",
      " [0.45822728 0.54177272]]\n"
     ]
    }
   ],
   "source": [
    "from sklearn.linear_model import LogisticRegression\n",
    "lr = LogisticRegression()\n",
    "lr.fit(train_top_mid, target_top_mid)\n",
    "print('예측한 포지션:', lr.predict(train_top_mid[:5]))\n",
    "print('클래스:', lr.classes_)\n",
    "print('확률:', lr.predict_proba(train_top_mid[:5]))\n"
   ]
  },
  {
   "cell_type": "markdown",
   "metadata": {},
   "source": [
    "### (3) 로지스틱 회귀 다중 분류"
   ]
  },
  {
   "cell_type": "code",
   "execution_count": 215,
   "metadata": {},
   "outputs": [
    {
     "name": "stdout",
     "output_type": "stream",
     "text": [
      "0.841058052434457\n",
      "0.8238596491228071\n",
      "\n",
      "예측한 포지션:\n",
      "['Lane.utility' 'Lane.mid_lane' 'Lane.top_lane' 'Lane.top_lane'\n",
      " 'Lane.utility' 'Lane.mid_lane' 'Lane.bot_lane' 'Lane.bot_lane'\n",
      " 'Lane.bot_lane' 'Lane.jungle']\n",
      "\n",
      "클래스:\n",
      "['Lane.bot_lane' 'Lane.jungle' 'Lane.mid_lane' 'Lane.top_lane'\n",
      " 'Lane.utility']\n",
      "\n",
      "확률:\n",
      "[[0.    0.054 0.002 0.011 0.933]\n",
      " [0.059 0.    0.476 0.464 0.   ]\n",
      " [0.006 0.    0.443 0.551 0.   ]\n",
      " [0.    0.    0.389 0.611 0.   ]\n",
      " [0.    0.117 0.    0.002 0.881]\n",
      " [0.052 0.    0.573 0.375 0.   ]\n",
      " [0.997 0.    0.003 0.    0.   ]\n",
      " [0.623 0.    0.13  0.247 0.   ]\n",
      " [0.937 0.    0.043 0.021 0.   ]\n",
      " [0.    1.    0.    0.    0.   ]]\n"
     ]
    }
   ],
   "source": [
    "from sklearn.linear_model import LogisticRegression\n",
    "import numpy as np\n",
    "lr = LogisticRegression(C=20, max_iter=2000)\n",
    "lr.fit(train_scaled, train_target)\n",
    "\n",
    "print(lr.score(train_scaled, train_target))\n",
    "print(lr.score(test_scaled, test_target), end='\\n\\n')\n",
    "\n",
    "print('예측한 포지션:')\n",
    "print(lr.predict(test_scaled[:10]), end='\\n\\n')\n",
    "print('클래스:')\n",
    "print(lr.classes_, end='\\n\\n')\n",
    "print('확률:')\n",
    "print(np.round(lr.predict_proba(test_scaled[:10]), decimals=3))"
   ]
  }
 ],
 "metadata": {
  "interpreter": {
   "hash": "aa3dd84ef0f650d9d8b867844db5a915f08cb58b5d6dab20fc53865ee0283ae4"
  },
  "kernelspec": {
   "display_name": "Python 3.9.10 ('py39')",
   "language": "python",
   "name": "python3"
  },
  "language_info": {
   "codemirror_mode": {
    "name": "ipython",
    "version": 3
   },
   "file_extension": ".py",
   "mimetype": "text/x-python",
   "name": "python",
   "nbconvert_exporter": "python",
   "pygments_lexer": "ipython3",
   "version": "3.9.10"
  },
  "orig_nbformat": 4
 },
 "nbformat": 4,
 "nbformat_minor": 2
}
