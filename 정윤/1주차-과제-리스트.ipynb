{
 "cells": [
  {
   "cell_type": "markdown",
   "metadata": {},
   "source": [
    "# 1주차 문제\n",
    "\n",
    "매 시간 센서로 부터, 온도(temp)와 습도(hum)를 입력받아서,\n",
    "온도가 26도 이상이거나 습도가 80 이상이면, 에어콘(히터)를 동작시킴\n",
    "(동작은 현재 상태(On, Off)를 출력하는 것임)\n",
    "\n",
    "하루가 끝나면, \n",
    "하루 평균 온도(avg_temp)와 습도(avg_hum)를 출력하고,\n",
    "온도가 가장 높은 시간(h_temp_hour)과 온도(h_temp)와, \n",
    "습도가 가장 높은 시간(h_hum_hour)과 습도(h_hum)를 출력한다.\n",
    "\n",
    "공장 가동 시간은, 8, 9, 10, 11, 12, 13, 14, 15, 16, 17 \n",
    "\n",
    "데이터를 리스트(배열)로 하는 것과 csv 파일로 만들어서 읽어서 처리하는 것 2가지 작성\n",
    "함수(클래스)로 기능별 분해\n",
    "데이터가 하루가 아니라 일주일치 데이터를 처리"
   ]
  },
  {
   "cell_type": "markdown",
   "metadata": {},
   "source": [
    "# List 사용"
   ]
  },
  {
   "cell_type": "markdown",
   "metadata": {},
   "source": [
    "에어컨 제어"
   ]
  },
  {
   "cell_type": "code",
   "execution_count": 18,
   "metadata": {},
   "outputs": [],
   "source": [
    "def AC(hours, temp, hum):\n",
    "  if (temp >= 26 or hum >= 80):\n",
    "    print(f'{hours}시: 에어컨 On')\n",
    "  else:\n",
    "    print(f'{hours}시: 에어컨 Off')"
   ]
  },
  {
   "cell_type": "markdown",
   "metadata": {},
   "source": [
    "랜덤한 리스트 생성"
   ]
  },
  {
   "cell_type": "code",
   "execution_count": 19,
   "metadata": {},
   "outputs": [],
   "source": [
    "import random\n",
    "\n",
    "def createList():\n",
    "  # 온도는 20~28 사이의 랜덤값 생성\n",
    "  # 습도는 70~85 사이의 랜덤값 생성\n",
    "  list = []\n",
    "  for days in range(1, 8):\n",
    "    for hours in range(8, 18):\n",
    "      temp = random.randint(20, 28)\n",
    "      hum = random.randint(70, 85)\n",
    "      list.append([days, hours, temp, hum])\n",
    "  # print(f'생성된 리스트: {list}')\n",
    "  print(f'리스트 생성')\n",
    "  return list"
   ]
  },
  {
   "cell_type": "markdown",
   "metadata": {},
   "source": [
    "하루를 마칠 때 호출할 함수"
   ]
  },
  {
   "cell_type": "code",
   "execution_count": 20,
   "metadata": {},
   "outputs": [],
   "source": [
    "def endOfDay(list):\n",
    "  sum_temp = 0\n",
    "  sum_hum = 0\n",
    "  temp_max = 0\n",
    "  \n",
    "  for row in list:\n",
    "    temp = row[2]\n",
    "    \n",
    "    sum_temp += row[2]\n",
    "    sum_hum += row[3]\n",
    "\n",
    "    if temp_max > row[2]:\n",
    "      temp_max = row[2] \n",
    "  \n",
    "  avg_temp = sum_temp / len(list)\n",
    "  avg_hum = sum_hum / len(list)\n",
    "\n",
    "  print(f'오늘 하루의 평균 온도는 {avg_temp}도 이고, 평균 습도는 {avg_hum}% 입니다.')\n",
    "\n",
    "  # h_temp_index = df['temp'].idxmax()\n",
    "  # h_temp = df.loc[h_temp_index, 'temp']\n",
    "  # h_temp_hours = df.loc[h_temp_index, 'hours']\n",
    "\n",
    "  # h_hum_index = df['hum'].idxmax()\n",
    "  # h_hum = df.loc[h_hum_index, 'hum']\n",
    "  # h_hum_hours = df.loc[h_hum_index, 'hum']\n",
    "  \n",
    "  # print(f'오늘 하루 중 가장 온도가 높았던 시간은 {h_temp_hours}시 이고, {h_temp}도 였습니다.')\n",
    "  # print(f'오늘 하루 중 가장 습도가 높았던 시간은 {h_hum_hours}시 이고, {h_hum}% 였습니다.')"
   ]
  },
  {
   "cell_type": "markdown",
   "metadata": {},
   "source": [
    "CSV로 루틴 실행"
   ]
  },
  {
   "cell_type": "code",
   "execution_count": 21,
   "metadata": {},
   "outputs": [],
   "source": [
    "import pandas as pd\n",
    "\n",
    "def runList(list):\n",
    "  index = 0\n",
    "  for days in range(1, 8):\n",
    "    # 일자별로 필터링\n",
    "    print(f'{days}일----------------------------------')\n",
    "    days_list = []\n",
    "    for hours in range(8, 18):\n",
    "      days_list.append(list[index])\n",
    "\n",
    "      hours = list[index][1]\n",
    "      temp = list[index][2]\n",
    "      hum = list[index][3]\n",
    "      AC(hours, temp, hum)\n",
    "      \n",
    "      index += 1\n",
    "    endOfDay(days_list)\n",
    "    print(f'-------------------------------------\\n')"
   ]
  },
  {
   "cell_type": "markdown",
   "metadata": {},
   "source": [
    "함수 사용"
   ]
  },
  {
   "cell_type": "code",
   "execution_count": 22,
   "metadata": {},
   "outputs": [
    {
     "name": "stdout",
     "output_type": "stream",
     "text": [
      "리스트 생성\n",
      "[[1, 8, 23, 79], [1, 9, 24, 83], [1, 10, 27, 81], [1, 11, 27, 70], [1, 12, 26, 76], [1, 13, 26, 80], [1, 14, 20, 76], [1, 15, 20, 80], [1, 16, 20, 79], [1, 17, 22, 72], [2, 8, 27, 84], [2, 9, 20, 72], [2, 10, 26, 78], [2, 11, 28, 70], [2, 12, 24, 85], [2, 13, 22, 82], [2, 14, 22, 79], [2, 15, 23, 82], [2, 16, 22, 80], [2, 17, 20, 81], [3, 8, 28, 79], [3, 9, 23, 76], [3, 10, 25, 73], [3, 11, 27, 85], [3, 12, 20, 85], [3, 13, 23, 81], [3, 14, 23, 76], [3, 15, 22, 70], [3, 16, 26, 75], [3, 17, 25, 71], [4, 8, 27, 85], [4, 9, 27, 76], [4, 10, 21, 70], [4, 11, 22, 79], [4, 12, 23, 75], [4, 13, 24, 82], [4, 14, 28, 79], [4, 15, 25, 84], [4, 16, 28, 82], [4, 17, 28, 82], [5, 8, 28, 71], [5, 9, 25, 78], [5, 10, 23, 74], [5, 11, 23, 74], [5, 12, 21, 81], [5, 13, 27, 73], [5, 14, 28, 70], [5, 15, 24, 71], [5, 16, 28, 70], [5, 17, 23, 77], [6, 8, 26, 71], [6, 9, 27, 74], [6, 10, 26, 74], [6, 11, 23, 84], [6, 12, 24, 70], [6, 13, 22, 84], [6, 14, 27, 71], [6, 15, 21, 75], [6, 16, 25, 85], [6, 17, 23, 84], [7, 8, 21, 81], [7, 9, 22, 80], [7, 10, 25, 81], [7, 11, 21, 73], [7, 12, 23, 75], [7, 13, 20, 71], [7, 14, 23, 81], [7, 15, 24, 72], [7, 16, 28, 78], [7, 17, 23, 75]]\n",
      "1일----------------------------------\n",
      "8시: 에어컨 Off\n",
      "9시: 에어컨 On\n",
      "10시: 에어컨 On\n",
      "11시: 에어컨 On\n",
      "12시: 에어컨 On\n",
      "13시: 에어컨 On\n",
      "14시: 에어컨 Off\n",
      "15시: 에어컨 On\n",
      "16시: 에어컨 Off\n",
      "17시: 에어컨 Off\n",
      "오늘 하루의 평균 온도는 23.5도 이고, 평균 습도는 77.6% 입니다.\n",
      "-------------------------------------\n",
      "\n",
      "2일----------------------------------\n",
      "8시: 에어컨 On\n",
      "9시: 에어컨 Off\n",
      "10시: 에어컨 On\n",
      "11시: 에어컨 On\n",
      "12시: 에어컨 On\n",
      "13시: 에어컨 On\n",
      "14시: 에어컨 Off\n",
      "15시: 에어컨 On\n",
      "16시: 에어컨 On\n",
      "17시: 에어컨 On\n",
      "오늘 하루의 평균 온도는 23.4도 이고, 평균 습도는 79.3% 입니다.\n",
      "-------------------------------------\n",
      "\n",
      "3일----------------------------------\n",
      "8시: 에어컨 On\n",
      "9시: 에어컨 Off\n",
      "10시: 에어컨 Off\n",
      "11시: 에어컨 On\n",
      "12시: 에어컨 On\n",
      "13시: 에어컨 On\n",
      "14시: 에어컨 Off\n",
      "15시: 에어컨 Off\n",
      "16시: 에어컨 On\n",
      "17시: 에어컨 Off\n",
      "오늘 하루의 평균 온도는 24.2도 이고, 평균 습도는 77.1% 입니다.\n",
      "-------------------------------------\n",
      "\n",
      "4일----------------------------------\n",
      "8시: 에어컨 On\n",
      "9시: 에어컨 On\n",
      "10시: 에어컨 Off\n",
      "11시: 에어컨 Off\n",
      "12시: 에어컨 Off\n",
      "13시: 에어컨 On\n",
      "14시: 에어컨 On\n",
      "15시: 에어컨 On\n",
      "16시: 에어컨 On\n",
      "17시: 에어컨 On\n",
      "오늘 하루의 평균 온도는 25.3도 이고, 평균 습도는 79.4% 입니다.\n",
      "-------------------------------------\n",
      "\n",
      "5일----------------------------------\n",
      "8시: 에어컨 On\n",
      "9시: 에어컨 Off\n",
      "10시: 에어컨 Off\n",
      "11시: 에어컨 Off\n",
      "12시: 에어컨 On\n",
      "13시: 에어컨 On\n",
      "14시: 에어컨 On\n",
      "15시: 에어컨 Off\n",
      "16시: 에어컨 On\n",
      "17시: 에어컨 Off\n",
      "오늘 하루의 평균 온도는 25.0도 이고, 평균 습도는 73.9% 입니다.\n",
      "-------------------------------------\n",
      "\n",
      "6일----------------------------------\n",
      "8시: 에어컨 On\n",
      "9시: 에어컨 On\n",
      "10시: 에어컨 On\n",
      "11시: 에어컨 On\n",
      "12시: 에어컨 Off\n",
      "13시: 에어컨 On\n",
      "14시: 에어컨 On\n",
      "15시: 에어컨 Off\n",
      "16시: 에어컨 On\n",
      "17시: 에어컨 On\n",
      "오늘 하루의 평균 온도는 24.4도 이고, 평균 습도는 77.2% 입니다.\n",
      "-------------------------------------\n",
      "\n",
      "7일----------------------------------\n",
      "8시: 에어컨 On\n",
      "9시: 에어컨 On\n",
      "10시: 에어컨 On\n",
      "11시: 에어컨 Off\n",
      "12시: 에어컨 Off\n",
      "13시: 에어컨 Off\n",
      "14시: 에어컨 On\n",
      "15시: 에어컨 Off\n",
      "16시: 에어컨 On\n",
      "17시: 에어컨 Off\n",
      "오늘 하루의 평균 온도는 23.0도 이고, 평균 습도는 76.7% 입니다.\n",
      "-------------------------------------\n",
      "\n"
     ]
    }
   ],
   "source": [
    "filename = 'temp-hum.csv'\n",
    "list = createList()\n",
    "print(list)\n",
    "runList(list)"
   ]
  }
 ],
 "metadata": {
  "interpreter": {
   "hash": "730376cb20466e35123133201350375b75d25f922b4df7a7507de9f50f0971c0"
  },
  "kernelspec": {
   "display_name": "Python 3.9.7 64-bit",
   "language": "python",
   "name": "python3"
  },
  "language_info": {
   "codemirror_mode": {
    "name": "ipython",
    "version": 3
   },
   "file_extension": ".py",
   "mimetype": "text/x-python",
   "name": "python",
   "nbconvert_exporter": "python",
   "pygments_lexer": "ipython3",
   "version": "3.10.2"
  },
  "orig_nbformat": 4
 },
 "nbformat": 4,
 "nbformat_minor": 2
}
