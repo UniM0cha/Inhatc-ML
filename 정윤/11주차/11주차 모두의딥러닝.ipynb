{
 "cells": [
  {
   "cell_type": "code",
   "execution_count": null,
   "metadata": {},
   "outputs": [],
   "source": [
    "def MLP(x1, x2, w1, w2, b):\n",
    "    y = w1*x1 + w2*x2 + b\n",
    "    if y <= 0:\n",
    "        return 0\n",
    "    else:\n",
    "        return 1\n",
    "\n",
    "# x1, x2 값을 번갈아 대입해 가며 최종 값 출력\n",
    "for x in [(0, 0), (1, 0), (0, 1), (1, 1)]:\n",
    "    y = MLP(x[0], x[1])\n",
    "    print(\"입력 값: \" + str(x) + \" 출력 값: \" + str(y))    "
   ]
  },
  {
   "cell_type": "code",
   "execution_count": 2,
   "metadata": {},
   "outputs": [
    {
     "name": "stdout",
     "output_type": "stream",
     "text": [
      "입력 값: (170, 80) 출력 값: 0\n",
      "입력 값: (175, 76) 출력 값: 0\n",
      "입력 값: (180, 70) 출력 값: 0\n",
      "입력 값: (160, 55) 출력 값: 0\n",
      "입력 값: (163, 43) 출력 값: 0\n",
      "입력 값: (165, 48) 출력 값: 0\n"
     ]
    }
   ],
   "source": [
    "import numpy as np\n",
    "\n",
    "# 가중치와 바이어스\n",
    "w11 = np.array([-2, -2])\n",
    "w12 = np.array([2, 2])\n",
    "w2 = np.array([1, 1])\n",
    "b1 = 3\n",
    "b2 = -1\n",
    "b3 = -1\n",
    "\n",
    "# 퍼셉트론\n",
    "\n",
    "\n",
    "def MLP(x, w, b):\n",
    "    y = np.sum(w * x) + b\n",
    "    if y <= 0:\n",
    "        return 0\n",
    "    else:\n",
    "        return 1\n",
    "\n",
    "# NAND 게이트\n",
    "\n",
    "\n",
    "def NAND(x1, x2):\n",
    "    return MLP(np.array([x1, x2]), w11, b1)\n",
    "\n",
    "# OR 게이트\n",
    "\n",
    "\n",
    "def OR(x1, x2):\n",
    "    return MLP(np.array([x1, x2]), w12, b2)\n",
    "\n",
    "# AND 게이트\n",
    "\n",
    "\n",
    "def AND(x1, x2):\n",
    "    return MLP(np.array([x1, x2]), w2, b3)\n",
    "\n",
    "# XOR 게이트\n",
    "\n",
    "\n",
    "def XOR(x1, x2):\n",
    "    return AND(NAND(x1, x2), OR(x1, x2))\n",
    "\n",
    "\n",
    "# x1, x2 값을 번갈아 대입해 가며 최종 값 출력\n",
    "for x in [(170, 80), (175, 76), (180, 70), (160, 55), (163, 43), (165, 48)]:\n",
    "    y = XOR(x[0], x[1])\n",
    "    print(\"입력 값: \" + str(x) + \" 출력 값: \" + str(y))\n"
   ]
  },
  {
   "cell_type": "code",
   "execution_count": null,
   "metadata": {},
   "outputs": [],
   "source": []
  }
 ],
 "metadata": {
  "interpreter": {
   "hash": "e340a0a01ab186b377b016c01aa7d5d1230eddf285ffed81230a024c78a4da64"
  },
  "kernelspec": {
   "display_name": "Python 3.8.13 ('py38')",
   "language": "python",
   "name": "python3"
  },
  "language_info": {
   "codemirror_mode": {
    "name": "ipython",
    "version": 3
   },
   "file_extension": ".py",
   "mimetype": "text/x-python",
   "name": "python",
   "nbconvert_exporter": "python",
   "pygments_lexer": "ipython3",
   "version": "3.8.13"
  },
  "orig_nbformat": 4
 },
 "nbformat": 4,
 "nbformat_minor": 2
}
