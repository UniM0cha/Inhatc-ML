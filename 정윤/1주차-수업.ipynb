{
 "cells": [
  {
   "cell_type": "markdown",
   "metadata": {},
   "source": [
    "# 1st test\n",
    "1. 매 시간마다 센서로부터 온도와 습도를 입력받는다\n",
    "2. 온도가 26도 이상 또는 습도 80% 이상이면 에어컨 가동\n",
    "3. 하루가 마감되면 하루동안의 평균 온도, 평균습도를 출력\n",
    "4. 하루 중 가장 온도가 높았던 시간과 온도를 출력\n",
    "5. 하루 중 가장 습도가 높았던 시간과 온도를 출력\n",
    "6. 아침 8시에 가동시작하여 9시간동안 가동"
   ]
  },
  {
   "cell_type": "code",
   "execution_count": 19,
   "metadata": {},
   "outputs": [
    {
     "name": "stdout",
     "output_type": "stream",
     "text": [
      "8시: 에어컨 Off\n",
      "9시: 에어컨 Off\n",
      "10시: 에어컨 On\n",
      "11시: 에어컨 On\n",
      "12시: 에어컨 Off\n",
      "13시: 에어컨 On\n",
      "14시: 에어컨 On\n",
      "15시: 에어컨 On\n",
      "16시: 에어컨 On\n",
      "17시: 에어컨 Off\n",
      "오늘 하루의 평균 온도는 24.1도 이고, 평균 습도는 77.5% 입니다.\n",
      "오늘 하루 중 가장 온도가 높았던 시간은 14시 이고, 28도 였습니다.\n",
      "오늘 하루 중 가장 습도가 높았던 시간은 16시 이고, 85% 였습니다.\n"
     ]
    }
   ],
   "source": [
    "def AC_On(time):\n",
    "  print(f'{time}시: 에어컨 On')\n",
    "\n",
    "def AC_Off(time):\n",
    "  print(f'{time}시: 에어컨 Off')\n",
    "\n",
    "temp = [20, 21, 22, 24, 25, 26, 28, 27, 25, 23]\n",
    "humi = [73, 75, 80, 81, 79, 76, 74, 82, 85, 70]\n",
    "\n",
    "for i in range(len(temp)):\n",
    "  if temp[i] >= 26 or humi[i] >= 80:\n",
    "    AC_On(i+8)\n",
    "  else:\n",
    "    AC_Off(i+8)\n",
    "\n",
    "temp_avg = sum(temp)/len(temp)\n",
    "humi_avg = sum(humi)/len(humi)\n",
    "print(f'오늘 하루의 평균 온도는 {round(temp_avg,2)}도 이고, 평균 습도는 {round(humi_avg,2)}% 입니다.')\n",
    "\n",
    "print(f'오늘 하루 중 가장 온도가 높았던 시간은 {temp.index(max(temp)) + 8}시 이고, {max(temp)}도 였습니다.')\n",
    "print(f'오늘 하루 중 가장 습도가 높았던 시간은 {humi.index(max(humi)) + 8}시 이고, {max(humi)}% 였습니다.')"
   ]
  },
  {
   "cell_type": "markdown",
   "metadata": {},
   "source": [
    "# 2nd test\n",
    "1. csv와 numpy를 사용해서 구현하기"
   ]
  },
  {
   "cell_type": "code",
   "execution_count": 22,
   "metadata": {},
   "outputs": [
    {
     "ename": "IndexError",
     "evalue": "invalid index to scalar variable.",
     "output_type": "error",
     "traceback": [
      "\u001b[0;31m---------------------------------------------------------------------------\u001b[0m",
      "\u001b[0;31mIndexError\u001b[0m                                Traceback (most recent call last)",
      "\u001b[1;32m/Users/solstice/Desktop/Github/Inhatc-MachineLearning/FirstJupyter.ipynb Cell 4'\u001b[0m in \u001b[0;36m<cell line: 12>\u001b[0;34m()\u001b[0m\n\u001b[1;32m      <a href='vscode-notebook-cell:/Users/solstice/Desktop/Github/Inhatc-MachineLearning/FirstJupyter.ipynb#ch0000003?line=7'>8</a>\u001b[0m   \u001b[39mprint\u001b[39m(\u001b[39mf\u001b[39m\u001b[39m'\u001b[39m\u001b[39m{\u001b[39;00mtime\u001b[39m}\u001b[39;00m\u001b[39m시: 에어컨 Off\u001b[39m\u001b[39m'\u001b[39m)\n\u001b[1;32m     <a href='vscode-notebook-cell:/Users/solstice/Desktop/Github/Inhatc-MachineLearning/FirstJupyter.ipynb#ch0000003?line=9'>10</a>\u001b[0m data \u001b[39m=\u001b[39m pd\u001b[39m.\u001b[39mread_csv(\u001b[39m\"\u001b[39m\u001b[39mtime-temp-humi.csv\u001b[39m\u001b[39m\"\u001b[39m)\n\u001b[0;32m---> <a href='vscode-notebook-cell:/Users/solstice/Desktop/Github/Inhatc-MachineLearning/FirstJupyter.ipynb#ch0000003?line=11'>12</a>\u001b[0m \u001b[39mprint\u001b[39m(data[\u001b[39m'\u001b[39;49m\u001b[39mtemp\u001b[39;49m\u001b[39m'\u001b[39;49m]\u001b[39m.\u001b[39;49mmax()[\u001b[39m1\u001b[39;49m])\n\u001b[1;32m     <a href='vscode-notebook-cell:/Users/solstice/Desktop/Github/Inhatc-MachineLearning/FirstJupyter.ipynb#ch0000003?line=13'>14</a>\u001b[0m \u001b[39mfor\u001b[39;00m time, temp, humi \u001b[39min\u001b[39;00m \u001b[39mzip\u001b[39m(data[\u001b[39m'\u001b[39m\u001b[39mtime\u001b[39m\u001b[39m'\u001b[39m], data[\u001b[39m'\u001b[39m\u001b[39mtemp\u001b[39m\u001b[39m'\u001b[39m], data[\u001b[39m'\u001b[39m\u001b[39mhumi\u001b[39m\u001b[39m'\u001b[39m]):\n\u001b[1;32m     <a href='vscode-notebook-cell:/Users/solstice/Desktop/Github/Inhatc-MachineLearning/FirstJupyter.ipynb#ch0000003?line=14'>15</a>\u001b[0m   \u001b[39mif\u001b[39;00m temp \u001b[39m>\u001b[39m\u001b[39m=\u001b[39m \u001b[39m26\u001b[39m \u001b[39mor\u001b[39;00m humi \u001b[39m>\u001b[39m\u001b[39m=\u001b[39m \u001b[39m80\u001b[39m:\n",
      "\u001b[0;31mIndexError\u001b[0m: invalid index to scalar variable."
     ]
    }
   ],
   "source": [
    "import numpy as np\n",
    "import pandas as pd\n",
    "\n",
    "def AC_On(time):\n",
    "  print(f'{time}시: 에어컨 On')\n",
    "\n",
    "def AC_Off(time):\n",
    "  print(f'{time}시: 에어컨 Off')\n",
    "\n",
    "data = pd.read_csv(\"time-temp-humi.csv\")\n",
    "\n",
    "print(data['temp'].max())\n",
    "\n",
    "for time, temp, humi in zip(data['time'], data['temp'], data['humi']):\n",
    "  if temp >= 26 or humi >= 80:\n",
    "    AC_On(time)\n",
    "  else:\n",
    "    AC_Off(time)\n",
    "\n",
    "temp_avg = round(data['temp'].mean(), 2)\n",
    "humi_avg = round(data['humi'].mean(), 2)\n",
    "\n",
    "print(f'오늘 하루의 평균 온도는 {temp_avg}도 이고, 평균 습도는 {humi_avg}% 입니다.')\n",
    "\n"
   ]
  },
  {
   "cell_type": "code",
   "execution_count": null,
   "metadata": {},
   "outputs": [],
   "source": [
    "import pandas as pd\n",
    "\n",
    "head = {'day', 'hour', 'temp','hum'}\n",
    "\n",
    "def createRandomSensor():\n",
    "  return temp"
   ]
  }
 ],
 "metadata": {
  "interpreter": {
   "hash": "b0fa6594d8f4cbf19f97940f81e996739fb7646882a419484c72d19e05852a7e"
  },
  "kernelspec": {
   "display_name": "Python 3.9.10 64-bit",
   "language": "python",
   "name": "python3"
  },
  "language_info": {
   "codemirror_mode": {
    "name": "ipython",
    "version": 3
   },
   "file_extension": ".py",
   "mimetype": "text/x-python",
   "name": "python",
   "nbconvert_exporter": "python",
   "pygments_lexer": "ipython3",
   "version": "3.9.10"
  },
  "orig_nbformat": 4
 },
 "nbformat": 4,
 "nbformat_minor": 2
}
