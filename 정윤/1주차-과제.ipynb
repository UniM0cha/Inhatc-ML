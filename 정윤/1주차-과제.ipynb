{
 "cells": [
  {
   "cell_type": "markdown",
   "metadata": {},
   "source": [
    "# 1주차 문제\n",
    "\n",
    "매 시간 센서로 부터, 온도(temp)와 습도(hum)를 입력받아서,\n",
    "온도가 26도 이상이거나 습도가 80 이상이면, 에어콘(히터)를 동작시킴\n",
    "(동작은 현재 상태(On, Off)를 출력하는 것임)\n",
    "\n",
    "하루가 끝나면, \n",
    "하루 평균 온도(avg_temp)와 습도(avg_hum)를 출력하고,\n",
    "온도가 가장 높은 시간(h_temp_hour)과 온도(h_temp)와, \n",
    "습도가 가장 높은 시간(h_hum_hour)과 습도(h_hum)를 출력한다.\n",
    "\n",
    "공장 가동 시간은, 8, 9, 10, 11, 12, 13, 14, 15, 16, 17 \n",
    "\n",
    "데이터를 리스트(배열)로 하는 것과 csv 파일로 만들어서 읽어서 처리하는 것 2가지 작성\n",
    "함수(클래스)로 기능별 분해\n",
    "데이터가 하루가 아니라 일주일치 데이터를 처리"
   ]
  },
  {
   "cell_type": "markdown",
   "metadata": {},
   "source": [
    "# List 사용 (잠시 버려짐)"
   ]
  },
  {
   "cell_type": "code",
   "execution_count": 11,
   "metadata": {},
   "outputs": [
    {
     "ename": "IndentationError",
     "evalue": "expected an indented block after 'for' statement on line 24 (4105306245.py, line 27)",
     "output_type": "error",
     "traceback": [
      "\u001b[0;36m  Input \u001b[0;32mIn [11]\u001b[0;36m\u001b[0m\n\u001b[0;31m    print('hi')\u001b[0m\n\u001b[0m    ^\u001b[0m\n\u001b[0;31mIndentationError\u001b[0m\u001b[0;31m:\u001b[0m expected an indented block after 'for' statement on line 24\n"
     ]
    }
   ],
   "source": [
    "import random\n",
    "import pandas as pd\n",
    "\n",
    "def AC(hours, temp, hum):\n",
    "  if (temp >= 26 or hum >= 80):\n",
    "    print(f'{hours}시: 에어컨 On')\n",
    "  else:\n",
    "    print(f'{hours}시: 에어컨 Off')\n",
    "\n",
    "def createList():\n",
    "  # 온도는 20~28 사이의 랜덤값 생성\n",
    "  # 습도는 70~85 사이의 랜덤값 생성\n",
    "  list = []\n",
    "  for days in range(1, 8):\n",
    "    for hours in range(8, 18):\n",
    "      temp = random.randint(20, 28)\n",
    "      hum = random.randint(70, 85)\n",
    "      list.append([days, hours, temp, hum])\n",
    "  print(f'생성된 리스트: {list}')\n",
    "  return list\n",
    "\n",
    "def runList(list):\n",
    "  for days in range(7):\n",
    "    for hours in range(10):\n",
    "      \n",
    "\n",
    "  print('hi')\n",
    "\n",
    "def runCSV(filename):\n",
    "  df = pd.read_csv(filename)\n",
    "  for days in range(1,8):\n",
    "    # 일자별로 필터링\n",
    "    is_days = df['days'] == days\n",
    "    filtered_df = df[is_days]\n",
    "    print(filtered_df)\n",
    "    for index, row in filtered_df.iterrows():\n",
    "      AC(row['hours'], row['temp'], row['hum'])\n",
    "\n",
    "filename = 'temp-hum.csv'\n",
    "list = createList()\n",
    "runList(list)"
   ]
  },
  {
   "cell_type": "markdown",
   "metadata": {},
   "source": [
    "# CSV 사용"
   ]
  },
  {
   "cell_type": "markdown",
   "metadata": {},
   "source": [
    "에어컨 제어"
   ]
  },
  {
   "cell_type": "code",
   "execution_count": 60,
   "metadata": {},
   "outputs": [],
   "source": [
    "def AC(hours, temp, hum):\n",
    "  if (temp >= 26 or hum >= 80):\n",
    "    print(f'{hours}시: 에어컨 On')\n",
    "  else:\n",
    "    print(f'{hours}시: 에어컨 Off')"
   ]
  },
  {
   "cell_type": "markdown",
   "metadata": {},
   "source": [
    "랜덤한 리스트 생성"
   ]
  },
  {
   "cell_type": "code",
   "execution_count": 61,
   "metadata": {},
   "outputs": [],
   "source": [
    "import random\n",
    "\n",
    "def createList():\n",
    "  # 온도는 20~28 사이의 랜덤값 생성\n",
    "  # 습도는 70~85 사이의 랜덤값 생성\n",
    "  list = []\n",
    "  for days in range(1, 8):\n",
    "    for hours in range(8, 18):\n",
    "      temp = random.randint(20, 28)\n",
    "      hum = random.randint(70, 85)\n",
    "      list.append([days, hours, temp, hum])\n",
    "  # print(f'생성된 리스트: {list}')\n",
    "  print(f'리스트 생성')\n",
    "  return list"
   ]
  },
  {
   "cell_type": "markdown",
   "metadata": {},
   "source": [
    "만들어진 리스트로 CSV 생성"
   ]
  },
  {
   "cell_type": "code",
   "execution_count": 62,
   "metadata": {},
   "outputs": [],
   "source": [
    "import pandas as pd\n",
    "\n",
    "def makeCSVfromList(list, filename):\n",
    "  df = pd.DataFrame(list, columns=['days', 'hours', 'temp', 'hum'])\n",
    "  df.to_csv(filename, index=False)\n",
    "  print(f'csv 저장 성공')"
   ]
  },
  {
   "cell_type": "markdown",
   "metadata": {},
   "source": [
    "하루를 마칠 때 호출할 함수"
   ]
  },
  {
   "cell_type": "code",
   "execution_count": 63,
   "metadata": {},
   "outputs": [],
   "source": [
    "def endOfDay(df):\n",
    "  avg_temp = df['temp'].mean()\n",
    "  avg_hum = df['hum'].mean()\n",
    "  print(f'오늘 하루의 평균 온도는 {avg_temp}도 이고, 평균 습도는 {avg_hum}% 입니다.')\n",
    "\n",
    "  h_temp_index = df['temp'].idxmax()\n",
    "  h_temp = df.loc[h_temp_index, 'temp']\n",
    "  h_temp_hours = df.loc[h_temp_index, 'hours']\n",
    "\n",
    "  h_hum_index = df['hum'].idxmax()\n",
    "  h_hum = df.loc[h_hum_index, 'hum']\n",
    "  h_hum_hours = df.loc[h_hum_index, 'hum']\n",
    "  \n",
    "  print(f'오늘 하루 중 가장 온도가 높았던 시간은 {h_temp_hours}시 이고, {h_temp}도 였습니다.')\n",
    "  print(f'오늘 하루 중 가장 습도가 높았던 시간은 {h_hum_hours}시 이고, {h_hum}% 였습니다.')"
   ]
  },
  {
   "cell_type": "markdown",
   "metadata": {},
   "source": [
    "CSV로 루틴 실행"
   ]
  },
  {
   "cell_type": "code",
   "execution_count": 70,
   "metadata": {},
   "outputs": [],
   "source": [
    "import pandas as pd\n",
    "\n",
    "def runCSV(filename):\n",
    "  df = pd.read_csv(filename)\n",
    "  for days in range(1,8):\n",
    "    # 일자별로 필터링\n",
    "    print(f'{days}일----------------------------------')\n",
    "    filtered_df = df[df['days'] == days]\n",
    "    for index, row in filtered_df.iterrows():\n",
    "      AC(row['hours'], row['temp'], row['hum'])\n",
    "    endOfDay(filtered_df)\n",
    "    print(f'-------------------------------------\\n')"
   ]
  },
  {
   "cell_type": "markdown",
   "metadata": {},
   "source": [
    "함수 사용"
   ]
  },
  {
   "cell_type": "code",
   "execution_count": 71,
   "metadata": {},
   "outputs": [
    {
     "name": "stdout",
     "output_type": "stream",
     "text": [
      "1일----------------------------------\n",
      "8시: 에어컨 On\n",
      "9시: 에어컨 Off\n",
      "10시: 에어컨 On\n",
      "11시: 에어컨 Off\n",
      "12시: 에어컨 Off\n",
      "13시: 에어컨 On\n",
      "14시: 에어컨 Off\n",
      "15시: 에어컨 Off\n",
      "16시: 에어컨 On\n",
      "17시: 에어컨 Off\n",
      "오늘 하루의 평균 온도는 24.6도 이고, 평균 습도는 76.5% 입니다.\n",
      "오늘 하루 중 가장 온도가 높았던 시간은 13시 이고, 28도 였습니다.\n",
      "오늘 하루 중 가장 습도가 높았던 시간은 82시 이고, 82% 였습니다.\n",
      "-------------------------------------\n",
      "\n",
      "2일----------------------------------\n",
      "8시: 에어컨 On\n",
      "9시: 에어컨 Off\n",
      "10시: 에어컨 On\n",
      "11시: 에어컨 Off\n",
      "12시: 에어컨 Off\n",
      "13시: 에어컨 On\n",
      "14시: 에어컨 On\n",
      "15시: 에어컨 Off\n",
      "16시: 에어컨 Off\n",
      "17시: 에어컨 Off\n",
      "오늘 하루의 평균 온도는 24.1도 이고, 평균 습도는 75.6% 입니다.\n",
      "오늘 하루 중 가장 온도가 높았던 시간은 13시 이고, 28도 였습니다.\n",
      "오늘 하루 중 가장 습도가 높았던 시간은 84시 이고, 84% 였습니다.\n",
      "-------------------------------------\n",
      "\n",
      "3일----------------------------------\n",
      "8시: 에어컨 On\n",
      "9시: 에어컨 On\n",
      "10시: 에어컨 On\n",
      "11시: 에어컨 Off\n",
      "12시: 에어컨 On\n",
      "13시: 에어컨 On\n",
      "14시: 에어컨 Off\n",
      "15시: 에어컨 On\n",
      "16시: 에어컨 On\n",
      "17시: 에어컨 Off\n",
      "오늘 하루의 평균 온도는 25.1도 이고, 평균 습도는 77.6% 입니다.\n",
      "오늘 하루 중 가장 온도가 높았던 시간은 10시 이고, 28도 였습니다.\n",
      "오늘 하루 중 가장 습도가 높았던 시간은 85시 이고, 85% 였습니다.\n",
      "-------------------------------------\n",
      "\n",
      "4일----------------------------------\n",
      "8시: 에어컨 Off\n",
      "9시: 에어컨 On\n",
      "10시: 에어컨 On\n",
      "11시: 에어컨 On\n",
      "12시: 에어컨 Off\n",
      "13시: 에어컨 On\n",
      "14시: 에어컨 On\n",
      "15시: 에어컨 On\n",
      "16시: 에어컨 Off\n",
      "17시: 에어컨 On\n",
      "오늘 하루의 평균 온도는 24.0도 이고, 평균 습도는 75.5% 입니다.\n",
      "오늘 하루 중 가장 온도가 높았던 시간은 10시 이고, 28도 였습니다.\n",
      "오늘 하루 중 가장 습도가 높았던 시간은 83시 이고, 83% 였습니다.\n",
      "-------------------------------------\n",
      "\n",
      "5일----------------------------------\n",
      "8시: 에어컨 On\n",
      "9시: 에어컨 On\n",
      "10시: 에어컨 Off\n",
      "11시: 에어컨 Off\n",
      "12시: 에어컨 Off\n",
      "13시: 에어컨 On\n",
      "14시: 에어컨 Off\n",
      "15시: 에어컨 Off\n",
      "16시: 에어컨 Off\n",
      "17시: 에어컨 On\n",
      "오늘 하루의 평균 온도는 23.0도 이고, 평균 습도는 77.1% 입니다.\n",
      "오늘 하루 중 가장 온도가 높았던 시간은 8시 이고, 26도 였습니다.\n",
      "오늘 하루 중 가장 습도가 높았던 시간은 82시 이고, 82% 였습니다.\n",
      "-------------------------------------\n",
      "\n",
      "6일----------------------------------\n",
      "8시: 에어컨 On\n",
      "9시: 에어컨 Off\n",
      "10시: 에어컨 On\n",
      "11시: 에어컨 On\n",
      "12시: 에어컨 On\n",
      "13시: 에어컨 On\n",
      "14시: 에어컨 Off\n",
      "15시: 에어컨 Off\n",
      "16시: 에어컨 Off\n",
      "17시: 에어컨 On\n",
      "오늘 하루의 평균 온도는 23.6도 이고, 평균 습도는 76.7% 입니다.\n",
      "오늘 하루 중 가장 온도가 높았던 시간은 10시 이고, 28도 였습니다.\n",
      "오늘 하루 중 가장 습도가 높았던 시간은 84시 이고, 84% 였습니다.\n",
      "-------------------------------------\n",
      "\n",
      "7일----------------------------------\n",
      "8시: 에어컨 Off\n",
      "9시: 에어컨 Off\n",
      "10시: 에어컨 Off\n",
      "11시: 에어컨 On\n",
      "12시: 에어컨 Off\n",
      "13시: 에어컨 On\n",
      "14시: 에어컨 Off\n",
      "15시: 에어컨 On\n",
      "16시: 에어컨 Off\n",
      "17시: 에어컨 Off\n",
      "오늘 하루의 평균 온도는 23.3도 이고, 평균 습도는 75.7% 입니다.\n",
      "오늘 하루 중 가장 온도가 높았던 시간은 13시 이고, 27도 였습니다.\n",
      "오늘 하루 중 가장 습도가 높았던 시간은 82시 이고, 82% 였습니다.\n",
      "-------------------------------------\n",
      "\n"
     ]
    }
   ],
   "source": [
    "filename = 'temp-hum.csv'\n",
    "# list = createList()\n",
    "# makeCSVfromList(list, filename)\n",
    "runCSV(filename)"
   ]
  }
 ],
 "metadata": {
  "interpreter": {
   "hash": "730376cb20466e35123133201350375b75d25f922b4df7a7507de9f50f0971c0"
  },
  "kernelspec": {
   "display_name": "Python 3.9.7 64-bit",
   "language": "python",
   "name": "python3"
  },
  "language_info": {
   "codemirror_mode": {
    "name": "ipython",
    "version": 3
   },
   "file_extension": ".py",
   "mimetype": "text/x-python",
   "name": "python",
   "nbconvert_exporter": "python",
   "pygments_lexer": "ipython3",
   "version": "3.10.2"
  },
  "orig_nbformat": 4
 },
 "nbformat": 4,
 "nbformat_minor": 2
}
